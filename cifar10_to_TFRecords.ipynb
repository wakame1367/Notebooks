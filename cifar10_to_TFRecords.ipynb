{
  "nbformat": 4,
  "nbformat_minor": 0,
  "metadata": {
    "colab": {
      "name": "cifar10_to_TFRecords.ipynb",
      "provenance": [],
      "authorship_tag": "ABX9TyPxF79e8cB2gyp7VSypElSd",
      "include_colab_link": true
    },
    "kernelspec": {
      "name": "python3",
      "display_name": "Python 3"
    }
  },
  "cells": [
    {
      "cell_type": "markdown",
      "metadata": {
        "id": "view-in-github",
        "colab_type": "text"
      },
      "source": [
        "<a href=\"https://colab.research.google.com/github/wakamezake/Notebooks/blob/master/cifar10_to_TFRecords.ipynb\" target=\"_parent\"><img src=\"https://colab.research.google.com/assets/colab-badge.svg\" alt=\"Open In Colab\"/></a>"
      ]
    },
    {
      "cell_type": "markdown",
      "metadata": {
        "id": "nynBylfaXmTt"
      },
      "source": [
        "### References\n",
        "#### Kaggle\n",
        "- https://www.kaggle.com/gauravchopracg/understanding-tfrecord-format\n",
        "- https://www.kaggle.com/cdeotte/how-to-create-tfrecords\n",
        "\n",
        "#### Github\n",
        "- https://github.com/zbchern/ResNet-at-Cifar10/blob/master/datasets/generate_cifar10_tfrecords.py\n",
        "\n",
        "#### Google\n",
        "- https://codelabs.developers.google.com/codelabs/keras-flowers-data#3\n",
        "- https://www.tensorflow.org/guide/data_performance\n",
        "- https://www.tensorflow.org/tutorials/load_data/tfrecord"
      ]
    },
    {
      "cell_type": "code",
      "metadata": {
        "colab": {
          "base_uri": "https://localhost:8080/",
          "height": 35
        },
        "id": "seStJaNN-lnS",
        "outputId": "e6d5fe59-6386-4fce-b2a3-007a43e00171"
      },
      "source": [
        "import tensorflow as tf\n",
        "tf.__version__"
      ],
      "execution_count": 1,
      "outputs": [
        {
          "output_type": "execute_result",
          "data": {
            "application/vnd.google.colaboratory.intrinsic+json": {
              "type": "string"
            },
            "text/plain": [
              "'2.3.0'"
            ]
          },
          "metadata": {
            "tags": []
          },
          "execution_count": 1
        }
      ]
    },
    {
      "cell_type": "code",
      "metadata": {
        "id": "L_aN280d-w42"
      },
      "source": [
        "cifar10 = tf.keras.datasets.cifar10"
      ],
      "execution_count": 38,
      "outputs": []
    },
    {
      "cell_type": "code",
      "metadata": {
        "id": "0y1gOZgm-3fd"
      },
      "source": [
        "(x_train, y_train), (x_test, y_test) = cifar10.load_data()"
      ],
      "execution_count": 39,
      "outputs": []
    },
    {
      "cell_type": "code",
      "metadata": {
        "colab": {
          "base_uri": "https://localhost:8080/"
        },
        "id": "0MZn_IFALauW",
        "outputId": "0d1b0605-f2e8-4960-a205-c6c32eb7ebff"
      },
      "source": [
        "x_train.dtype, y_train.dtype"
      ],
      "execution_count": 40,
      "outputs": [
        {
          "output_type": "execute_result",
          "data": {
            "text/plain": [
              "(dtype('uint8'), dtype('uint8'))"
            ]
          },
          "metadata": {
            "tags": []
          },
          "execution_count": 40
        }
      ]
    },
    {
      "cell_type": "code",
      "metadata": {
        "id": "4gQuZgG7A8J3"
      },
      "source": [
        "def _bytes_feature(value):\n",
        "  \"\"\"Returns a bytes_list from a string / byte.\"\"\"\n",
        "  if isinstance(value, type(tf.constant(0))):\n",
        "    value = value.numpy() # BytesList won't unpack a string from an EagerTensor.\n",
        "  return tf.train.Feature(bytes_list=tf.train.BytesList(value=[value]))\n",
        "\n",
        "def _float_feature(value):\n",
        "  \"\"\"Returns a float_list from a float / double.\"\"\"\n",
        "  return tf.train.Feature(float_list=tf.train.FloatList(value=[value]))\n",
        "\n",
        "def _int64_feature(value):\n",
        "  \"\"\"Returns an int64_list from a bool / enum / int / uint.\"\"\"\n",
        "  return tf.train.Feature(int64_list=tf.train.Int64List(value=[value]))\n",
        "\n",
        "def ndarray2tfrecord(path, data):\n",
        "    images, labels = data\n",
        "    num_entries = len(labels)\n",
        "    with tf.io.TFRecordWriter(path) as record_writer:\n",
        "        for idx in range(num_entries):\n",
        "            example = tf.train.Example(features=tf.train.Features(\n",
        "                        feature={\n",
        "                            'image': _bytes_feature(images[idx].tobytes),\n",
        "                            'label': _int64_feature(labels[idx])\n",
        "                        }))\n",
        "            record_writer.write(example.SerializeToString())"
      ],
      "execution_count": 43,
      "outputs": []
    },
    {
      "cell_type": "code",
      "metadata": {
        "colab": {
          "base_uri": "https://localhost:8080/"
        },
        "id": "r2IBDFKAO0jC",
        "outputId": "d11507ac-e283-4025-dab0-e7aadf3ac500"
      },
      "source": [
        "# https://numpy.org/doc/stable/reference/generated/numpy.ndarray.tobytes.html\n",
        "tf.train.Feature(bytes_list=tf.train.BytesList(value=[x_train[0].tobytes()]))"
      ],
      "execution_count": 44,
      "outputs": [
        {
          "output_type": "execute_result",
          "data": {
            "text/plain": [
              "bytes_list {\n",
              "  value: \";>?+.-20+D6*bI4w[?\\213kK\\221nP\\225uY\\225x]\\203gM}cL\\216s[\\220pV\\211iO\\201aG\\211jO\\206jL|a@\\213qN\\213pK\\205iE\\210iJ\\213lM\\230xY\\243\\203d\\250\\210l\\237\\201f\\236\\202h\\236\\204l\\230}f\\224|g\\020\\024\\024\\000\\000\\000\\022\\010\\0003\\033\\010X3\\025xR+\\200Y-\\177V,~W2tO,jF%eC#iF$qJ#mF!pH%wO,mG!iE\\033}Y.\\177\\\\.zU\\'\\203Y/|R)yO%\\203Y0\\204[5\\205^:\\205`<{X7wS2zW9\\031\\030\\025\\020\\007\\0001\\033\\010S2\\027nH)\\201\\\\6\\202]7yR/qM+pN,pO.jK-iI&\\200\\\\0|W/\\202\\\\8\\177Y8zU3sO+xU/\\202_6\\203`7\\213f>\\177Z3~Y1\\177Y2\\202\\\\5\\216iD\\202^:vT2xT2mI*!\\031\\021&\\024\\004W6\\031j?\\034sF!uJ#rH%i>!kD!yT-}Z5mK(qM&\\222i:\\205[/\\177T-vL(uL)\\177W4zQ+\\204\\\\3\\211c:\\210c9\\203]4|V,\\202[2\\204Z1\\207]3\\202Z2}W2yU0^>#2 \\025; \\013fA\\\"\\177O\\'|M$yM$xN(rJ\\'kH\\\"}X1\\201Y3jD\\037lG!|S*yN\\'lD\\035bA\\027nJ%uP1xP)\\206]2\\214jB\\203_:\\215bB\\207\\\\3\\177T-yO)wO(gC W9\\033K/\\027C*\\031G0\\035T5\\030nI%\\201R&\\210X-\\203T*\\201T+wM%lF!zR,{Q\\'iA\\031kH\\037oM\\037lJ\\\"bA\\033^>\\025a? S8&X:$fD*aE.X6$vJH\\214`O\\210a@xP-kD\\\"X6\\030C\\'\\017#\\n\\000 \\r\\004aE(oK${U+\\202T&\\210X,\\204S(zJ\\036yJ\\037\\177S.\\212^6|O\\\"xO\\'kG\\\"P2\\016D+\\021J)\\021e3\\025i8\\027A%\\020:$\\023?%\\022N3\\037\\210]SzDP\\213VO\\227jE\\201W1lD$_;\\035`?%Y=&B/\\036sR1wL!\\202Z/\\214a5\\205X0\\177Q(\\212Z/\\211Y.\\203V0\\205Y.\\206[.lF\\'H\\'\\0233\\032\\n)\\026\\016H\\037\\021\\265fE\\321\\177Q}L/D(\\027@&\\021R5\\036{M>p87\\207Q<\\227g=\\211_6rL\\'iE\\\"eB!~\\\\;fJ.\\211dD\\200R)\\204[3\\200W0wQ,{R+\\200U,\\202U,yP(\\211a6\\203^5J*\\0246\\031\\0202\\035\\020,\\035\\022V\\'\\017\\313j8\\331m>\\242ZGd:1M*\\033K+\\030J\\'\\030L#\\026kC$\\207`;\\207a:\\201[1\\177Y0wS+}V-\\206_8\\232xY\\232pM\\234rR\\214dA{Y5}V2~V0\\177[4\\205a<\\204aDZ<\\036?#\\t>!\\020F\\'\\024O2\\036g5\\032\\230F!\\224@%\\215O=yK9e:)`6!V0\\030K&\\025e? \\210[5\\210\\\\5\\206]2\\205]4\\204]4\\200V-\\205\\\\7\\232z^\\233uR\\234uR\\223lF\\205d@\\211dB\\213fD\\206fB\\215oQyWDP(\\ra5\\021Z-\\021b8\\036\\211[9\\213T1\\224W6\\206I%\\212R.\\206U9\\214\\\\L\\257\\201j\\216c5f=\\032lC\\031\\207Z)\\203W-\\205[3\\212a9\\210_7\\202V.\\206]9\\221rY\\222mI\\222mE\\207a7\\177\\\\9\\201^AuT7gJ*\\202gFxS7o<\\016\\222V\\026\\210N\\027\\243tM\\251sE\\230d4\\241tI\\224a9\\261yR\\241nG\\303\\226q\\321\\247{\\275\\222^}N(l?\\031\\214`4\\211_;\\204]8\\210_9\\205Z3\\204W.\\205\\\\8\\216sV\\215jE\\214iD\\220i@\\223nJyYAT8\\\"X=!mP,e9\\027\\212O\\023\\325\\226;\\262{)\\277\\226b\\323\\251z\\275\\224c\\315\\244n\\317\\242s\\325\\244v\\277\\217[\\307\\236a\\274\\227X\\241yL\\202S2|M&\\203W3\\202[=\\203]<\\206]9\\207[4\\210Y0\\205[8\\236\\203b\\232wR\\216kJ\\217fA\\204\\\\;Z;$H,\\026Q4\\030T/\\023k7\\031\\245j2\\345\\260\\\\\\267\\2119\\277\\236g\\357\\330\\260\\333\\300\\225\\344\\274\\200\\341\\274x\\326\\261p\\330\\256p\\322\\253n\\310\\251m\\275\\242r\\256\\211d\\241vL\\213_9\\206`B~Z;\\203\\\\8\\216b<\\210Y0\\212a=\\221sO\\225mB\\223lD\\223iA\\210_>P/\\025Y9 iD(`3\\032\\201Q-\\300\\230q\\271\\224k\\221e3\\313\\242y\\337\\310\\252\\362\\343\\304\\364\\343\\272\\356\\334\\245\\361\\333\\243\\343\\305\\220\\341\\277\\213\\353\\321\\235\\333\\316\\244\\340\\320\\265\\327\\300\\234\\234vN\\200Y9\\201_>\\203_<\\205a<\\200Y2\\202\\\\8\\224tO\\222d6\\221d7\\223d3\\205`6?*\\025B+\\037X2\\\"qA%\\266\\222n\\334\\277\\251\\212^G\\242i?\\316\\234p\\304\\246\\207\\367\\352\\324\\377\\375\\350\\377\\374\\333\\365\\352\\305\\354\\331\\264\\346\\320\\252\\327\\304\\240\\347\\331\\305\\372\\361\\345\\361\\345\\303\\236\\204N}_1~a:|\\\\4}[1~X.|X6\\225sO\\217_1\\220a3\\227c3\\204W1@(\\025T;)pE%\\243yK\\337\\314\\246\\316\\266\\235\\221Z8\\304\\205T\\314\\235n\\334\\274\\234\\363\\342\\320\\365\\355\\342\\357\\351\\327\\352\\340\\311\\347\\331\\300\\303\\265\\230\\226\\211d\\320\\301\\232\\372\\361\\330\\343\\330\\255\\243\\216N\\221\\177<\\217\\201>\\214{7\\210t.y_\\036rR(\\223oL\\206X/\\214c=\\224gB\\207Y<d@&lI+\\220hB\\322\\265\\214\\370\\363\\324\\257\\223s\\257wI\\334\\260\\201\\342\\305\\244\\346\\317\\263\\351\\332\\304\\340\\324\\303\\311\\272\\246\\270\\243\\212\\265\\236\\200\\276\\253\\210\\252\\235i\\263\\247i\\347\\332\\265\\337\\316\\241\\242\\205G\\222t+\\214s\\\"\\213t!\\221{&\\216w#\\200f)\\230rPuK%rP0{Z9~[8zS0]: \\263\\232\\212\\356\\342\\324\\370\\363\\345\\252\\206h\\271\\204X\\361\\326\\261\\346\\332\\303\\273\\251\\216\\264\\240\\203\\246\\222s\\222wU\\225tO\\235|S\\270\\235n\\330\\303\\215\\324\\306\\230\\354\\335\\305\\354\\324\\260\\246}?\\210U\\020\\206Q\\r\\202S\\r\\177V\\020\\211i\\033\\227\\2006\\221iH\\177R)\\200Z3\\205\\\\5\\204Y1\\207_3\\253\\221n\\355\\343\\315\\374\\367\\353\\345\\325\\302\\255\\210d\\251yI\\334\\266\\212\\302\\251\\207{Y7\\207b<\\177[0\\227r?\\245\\177J\\204c2\\227~O\\312\\267\\216\\360\\344\\313\\360\\341\\322\\336\\304\\251\\234u@wL\\014xK\\020pB\\016dA\\017cJ\\023\\214y6\\217hB\\177P&\\201V1\\201U.\\202V-\\214f;\\333\\304\\241\\364\\350\\322\\322\\307\\272\\301\\255\\227\\246\\201\\\\\\231h7\\277\\222`\\263\\221i\\200V/\\223f:\\225j;\\254\\203N\\223l6\\200^-\\215qC\\255\\226p\\312\\267\\240\\276\\253\\223\\306\\257\\222\\230|VdH\\032mQ\\\"wX+y\\\\2lR$\\210w2\\217h@}L \\203U0\\200Q+{Q\\'\\231uL\\224vU\\246\\215v\\274\\246\\223\\266\\234\\204\\253\\206c\\245sE\\303\\224c\\276\\231n\\230lB\\217_1\\230i8\\231n:\\216f3\\215f6\\207e7\\210e<\\224nJ\\215jA\\215oD\\212qGod%oo\\037yv#\\201t\\'\\212t-\\263\\242S\\215fA\\203P#\\213Y.\\213W,\\212Z2\\227oG\\200[4\\210a=\\257\\210h\\255\\210k\\275\\227v\\315\\240x\\311\\235q\\250\\203Y\\227lA\\221a5\\222e4\\225j9\\231n=\\225l=\\220h;\\220i;\\221h;\\217f<\\201`0{g\\'|~\\036q\\207\\016l\\205\\010qz\\n\\224\\210,\\307\\270f\\217gH\\213W,\\212Y*\\225`4\\240mH\\226j@\\223h:\\227h9\\251yQ\\247{W\\263\\215i\\324\\256\\212\\313\\250\\204\\317\\261\\215\\225pJ\\213`7\\220f8\\211^/\\227k=\\233oA\\230m?\\214e7kL&[<\\\"T=\\027ic\\031\\204\\216\\\"v\\215\\024`y\\004fq\\t\\237\\225?\\276\\256c\\225kJ\\205P%\\210X0\\223c;\\226h?\\231m>\\235pC\\242uN\\257\\203`\\276\\221k\\246|T\\312\\250\\205\\340\\305\\250\\305\\257\\224\\300\\245\\205\\264\\220k\\222j@~R(\\215a4\\234pB\\231m=sJ\\035M+\\016O2\\031]I!~u/\\205\\206\\'wt\\037qc\\030\\214y*\\273\\245[\\232\\204K\\254\\200L\\220X\\022\\207U#\\210X0\\207Z-\\213^1\\231lD\\243uS\\246xR\\270\\210d\\246vX\\226nK\\270\\225n\\234yV\\236{W\\250\\202\\\\\\225mG\\207[3\\202U+\\204X+\\200T%\\177S$\\207\\\\4\\217iB\\213l>\\210p4\\177i\\'y\\\\\\'\\207f,\\275\\237W\\323\\265r\\210k:\\312\\235R\\273\\201\\032\\227d\\031\\200O\\\"zL)\\206X1\\216b5\\226j8\\231j:\\224c?\\207W;\\177R,\\231m<\\246yM\\217c;\\202X3\\200W4\\227lF\\230jA\\207Z0\\213_2\\233n?\\241qA\\232k?\\232pC\\217i6\\202],\\204Z.\\253\\203F\\327\\267j\\272\\233[uV0\\330\\256W\\301\\210\\020\\250z\\023\\227o#\\203X\\\"~R#\\212^1\\220d5\\216_5\\211\\\\3xN\\\"\\203W)\\221c4\\220e9\\211^6\\177S0~R3\\213^<\\231lE\\225h?\\214_5\\207[.\\223g9\\224i;\\225l>\\225m?\\211e6\\217k9\\313\\247f\\316\\255i|]1G0\\032\\334\\266[\\311\\226\\026\\272\\224\\030\\254\\213\\034\\234x\\032\\216g\\036\\216d3\\231lK\\226iI\\213b9~X&\\210\\\\/\\224f>\\215e<\\203Y3~R1\\177Q3\\212X4\\226d<\\232hA\\225e<|N$~U)\\215e7\\221k=\\223pD\\177e;rW.\\272\\233b\\255\\220W8\\035\\t!\\023\\t\\320\\252`\\311\\231\\\"\\306\\241\\032\\277\\235\\033\\267\\222\\\"\\253\\207 \\237y*\\223k4\\207_1\\202W.\\213]9\\223b>\\220_7\\221c9\\211[3\\210Y4\\211Z6\\224f:\\230j<\\226g=\\233n@\\212^.xL!\\200T\\'\\216f:\\207g>ZE(2\\030\\013\\211i<\\240\\205F8\\037\\0075\\\"\\024\\264\\213`\\255{*\\272\\220\\036\\302\\231\\031\\306\\236\\\"\\311\\244$\\275\\231 \\255\\211 \\234v&\\213c&\\216a1\\221a8\\215\\\\4\\215]4\\213[3\\214[5\\217_:\\213c<\\212b<\\217`8\\222]+\\207T!uP&pH\\035zQ\\'hC\\036:\\037\\013\\\"\\005\\000\\203^9\\270\\224^a>\\\"S5\\\"\\261\\220t\\250\\201^\\263\\216W\\274\\225C\\312\\250D\\332\\275L\\332\\277H\\317\\265F\\277\\243O\\257\\217R\\246\\204V\\243\\200\\\\\\243\\177^\\241{\\\\\\231rT\\237xZ\\242|]\\225t[\\214hS\\224gM\\241iE\\220_7pZ;w[:\\202`AxW;\\\\C.gN9\\252\\214h\\330\\270\\214\\227vT{\\\\H\"\n",
              "}"
            ]
          },
          "metadata": {
            "tags": []
          },
          "execution_count": 44
        }
      ]
    },
    {
      "cell_type": "code",
      "metadata": {
        "id": "rnH9DmapK5C5"
      },
      "source": [
        "ndarray2tfrecord('train.tfrec', (x_train, y_train))"
      ],
      "execution_count": 45,
      "outputs": []
    },
    {
      "cell_type": "code",
      "metadata": {
        "id": "akPLR_lBOkR8"
      },
      "source": [
        "ndarray2tfrecord('test.tfrec', (x_test, y_test))"
      ],
      "execution_count": 46,
      "outputs": []
    },
    {
      "cell_type": "code",
      "metadata": {
        "id": "XfdC2YRpQGJW"
      },
      "source": [
        "train_dataset = tf.data.TFRecordDataset(['train.tfrec'])\n",
        "test_dataset = tf.data.TFRecordDataset(['test.tfrec'])"
      ],
      "execution_count": 48,
      "outputs": []
    },
    {
      "cell_type": "code",
      "metadata": {
        "colab": {
          "base_uri": "https://localhost:8080/"
        },
        "id": "o3IX453iQX-A",
        "outputId": "334679dd-41f1-4505-b849-201b07b26e88"
      },
      "source": [
        "for batch in train_dataset.take(1):\n",
        "    print(repr(batch))"
      ],
      "execution_count": 50,
      "outputs": [
        {
          "output_type": "stream",
          "text": [
            "<tf.Tensor: shape=(), dtype=string, numpy=b'\\n\\xa3\\x18\\n\\x0e\\n\\x05label\\x12\\x05\\x1a\\x03\\n\\x01\\x06\\n\\x90\\x18\\n\\x05image\\x12\\x86\\x18\\n\\x83\\x18\\n\\x80\\x18;>?+.-20+D6*bI4w[?\\x8bkK\\x91nP\\x95uY\\x95x]\\x83gM}cL\\x8es[\\x90pV\\x89iO\\x81aG\\x89jO\\x86jL|a@\\x8bqN\\x8bpK\\x85iE\\x88iJ\\x8blM\\x98xY\\xa3\\x83d\\xa8\\x88l\\x9f\\x81f\\x9e\\x82h\\x9e\\x84l\\x98}f\\x94|g\\x10\\x14\\x14\\x00\\x00\\x00\\x12\\x08\\x003\\x1b\\x08X3\\x15xR+\\x80Y-\\x7fV,~W2tO,jF%eC#iF$qJ#mF!pH%wO,mG!iE\\x1b}Y.\\x7f\\\\.zU\\'\\x83Y/|R)yO%\\x83Y0\\x84[5\\x85^:\\x85`<{X7wS2zW9\\x19\\x18\\x15\\x10\\x07\\x001\\x1b\\x08S2\\x17nH)\\x81\\\\6\\x82]7yR/qM+pN,pO.jK-iI&\\x80\\\\0|W/\\x82\\\\8\\x7fY8zU3sO+xU/\\x82_6\\x83`7\\x8bf>\\x7fZ3~Y1\\x7fY2\\x82\\\\5\\x8eiD\\x82^:vT2xT2mI*!\\x19\\x11&\\x14\\x04W6\\x19j?\\x1csF!uJ#rH%i>!kD!yT-}Z5mK(qM&\\x92i:\\x85[/\\x7fT-vL(uL)\\x7fW4zQ+\\x84\\\\3\\x89c:\\x88c9\\x83]4|V,\\x82[2\\x84Z1\\x87]3\\x82Z2}W2yU0^>#2 \\x15; \\x0bfA\"\\x7fO\\'|M$yM$xN(rJ\\'kH\"}X1\\x81Y3jD\\x1flG!|S*yN\\'lD\\x1dbA\\x17nJ%uP1xP)\\x86]2\\x8cjB\\x83_:\\x8dbB\\x87\\\\3\\x7fT-yO)wO(gC W9\\x1bK/\\x17C*\\x19G0\\x1dT5\\x18nI%\\x81R&\\x88X-\\x83T*\\x81T+wM%lF!zR,{Q\\'iA\\x19kH\\x1foM\\x1flJ\"bA\\x1b^>\\x15a? S8&X:$fD*aE.X6$vJH\\x8c`O\\x88a@xP-kD\"X6\\x18C\\'\\x0f#\\n\\x00 \\r\\x04aE(oK${U+\\x82T&\\x88X,\\x84S(zJ\\x1eyJ\\x1f\\x7fS.\\x8a^6|O\"xO\\'kG\"P2\\x0eD+\\x11J)\\x11e3\\x15i8\\x17A%\\x10:$\\x13?%\\x12N3\\x1f\\x88]SzDP\\x8bVO\\x97jE\\x81W1lD$_;\\x1d`?%Y=&B/\\x1esR1wL!\\x82Z/\\x8ca5\\x85X0\\x7fQ(\\x8aZ/\\x89Y.\\x83V0\\x85Y.\\x86[.lF\\'H\\'\\x133\\x1a\\n)\\x16\\x0eH\\x1f\\x11\\xb5fE\\xd1\\x7fQ}L/D(\\x17@&\\x11R5\\x1e{M>p87\\x87Q<\\x97g=\\x89_6rL\\'iE\"eB!~\\\\;fJ.\\x89dD\\x80R)\\x84[3\\x80W0wQ,{R+\\x80U,\\x82U,yP(\\x89a6\\x83^5J*\\x146\\x19\\x102\\x1d\\x10,\\x1d\\x12V\\'\\x0f\\xcbj8\\xd9m>\\xa2ZGd:1M*\\x1bK+\\x18J\\'\\x18L#\\x16kC$\\x87`;\\x87a:\\x81[1\\x7fY0wS+}V-\\x86_8\\x9axY\\x9apM\\x9crR\\x8cdA{Y5}V2~V0\\x7f[4\\x85a<\\x84aDZ<\\x1e?#\\t>!\\x10F\\'\\x14O2\\x1eg5\\x1a\\x98F!\\x94@%\\x8dO=yK9e:)`6!V0\\x18K&\\x15e? \\x88[5\\x88\\\\5\\x86]2\\x85]4\\x84]4\\x80V-\\x85\\\\7\\x9az^\\x9buR\\x9cuR\\x93lF\\x85d@\\x89dB\\x8bfD\\x86fB\\x8doQyWDP(\\ra5\\x11Z-\\x11b8\\x1e\\x89[9\\x8bT1\\x94W6\\x86I%\\x8aR.\\x86U9\\x8c\\\\L\\xaf\\x81j\\x8ec5f=\\x1alC\\x19\\x87Z)\\x83W-\\x85[3\\x8aa9\\x88_7\\x82V.\\x86]9\\x91rY\\x92mI\\x92mE\\x87a7\\x7f\\\\9\\x81^AuT7gJ*\\x82gFxS7o<\\x0e\\x92V\\x16\\x88N\\x17\\xa3tM\\xa9sE\\x98d4\\xa1tI\\x94a9\\xb1yR\\xa1nG\\xc3\\x96q\\xd1\\xa7{\\xbd\\x92^}N(l?\\x19\\x8c`4\\x89_;\\x84]8\\x88_9\\x85Z3\\x84W.\\x85\\\\8\\x8esV\\x8djE\\x8ciD\\x90i@\\x93nJyYAT8\"X=!mP,e9\\x17\\x8aO\\x13\\xd5\\x96;\\xb2{)\\xbf\\x96b\\xd3\\xa9z\\xbd\\x94c\\xcd\\xa4n\\xcf\\xa2s\\xd5\\xa4v\\xbf\\x8f[\\xc7\\x9ea\\xbc\\x97X\\xa1yL\\x82S2|M&\\x83W3\\x82[=\\x83]<\\x86]9\\x87[4\\x88Y0\\x85[8\\x9e\\x83b\\x9awR\\x8ekJ\\x8ffA\\x84\\\\;Z;$H,\\x16Q4\\x18T/\\x13k7\\x19\\xa5j2\\xe5\\xb0\\\\\\xb7\\x899\\xbf\\x9eg\\xef\\xd8\\xb0\\xdb\\xc0\\x95\\xe4\\xbc\\x80\\xe1\\xbcx\\xd6\\xb1p\\xd8\\xaep\\xd2\\xabn\\xc8\\xa9m\\xbd\\xa2r\\xae\\x89d\\xa1vL\\x8b_9\\x86`B~Z;\\x83\\\\8\\x8eb<\\x88Y0\\x8aa=\\x91sO\\x95mB\\x93lD\\x93iA\\x88_>P/\\x15Y9 iD(`3\\x1a\\x81Q-\\xc0\\x98q\\xb9\\x94k\\x91e3\\xcb\\xa2y\\xdf\\xc8\\xaa\\xf2\\xe3\\xc4\\xf4\\xe3\\xba\\xee\\xdc\\xa5\\xf1\\xdb\\xa3\\xe3\\xc5\\x90\\xe1\\xbf\\x8b\\xeb\\xd1\\x9d\\xdb\\xce\\xa4\\xe0\\xd0\\xb5\\xd7\\xc0\\x9c\\x9cvN\\x80Y9\\x81_>\\x83_<\\x85a<\\x80Y2\\x82\\\\8\\x94tO\\x92d6\\x91d7\\x93d3\\x85`6?*\\x15B+\\x1fX2\"qA%\\xb6\\x92n\\xdc\\xbf\\xa9\\x8a^G\\xa2i?\\xce\\x9cp\\xc4\\xa6\\x87\\xf7\\xea\\xd4\\xff\\xfd\\xe8\\xff\\xfc\\xdb\\xf5\\xea\\xc5\\xec\\xd9\\xb4\\xe6\\xd0\\xaa\\xd7\\xc4\\xa0\\xe7\\xd9\\xc5\\xfa\\xf1\\xe5\\xf1\\xe5\\xc3\\x9e\\x84N}_1~a:|\\\\4}[1~X.|X6\\x95sO\\x8f_1\\x90a3\\x97c3\\x84W1@(\\x15T;)pE%\\xa3yK\\xdf\\xcc\\xa6\\xce\\xb6\\x9d\\x91Z8\\xc4\\x85T\\xcc\\x9dn\\xdc\\xbc\\x9c\\xf3\\xe2\\xd0\\xf5\\xed\\xe2\\xef\\xe9\\xd7\\xea\\xe0\\xc9\\xe7\\xd9\\xc0\\xc3\\xb5\\x98\\x96\\x89d\\xd0\\xc1\\x9a\\xfa\\xf1\\xd8\\xe3\\xd8\\xad\\xa3\\x8eN\\x91\\x7f<\\x8f\\x81>\\x8c{7\\x88t.y_\\x1erR(\\x93oL\\x86X/\\x8cc=\\x94gB\\x87Y<d@&lI+\\x90hB\\xd2\\xb5\\x8c\\xf8\\xf3\\xd4\\xaf\\x93s\\xafwI\\xdc\\xb0\\x81\\xe2\\xc5\\xa4\\xe6\\xcf\\xb3\\xe9\\xda\\xc4\\xe0\\xd4\\xc3\\xc9\\xba\\xa6\\xb8\\xa3\\x8a\\xb5\\x9e\\x80\\xbe\\xab\\x88\\xaa\\x9di\\xb3\\xa7i\\xe7\\xda\\xb5\\xdf\\xce\\xa1\\xa2\\x85G\\x92t+\\x8cs\"\\x8bt!\\x91{&\\x8ew#\\x80f)\\x98rPuK%rP0{Z9~[8zS0]: \\xb3\\x9a\\x8a\\xee\\xe2\\xd4\\xf8\\xf3\\xe5\\xaa\\x86h\\xb9\\x84X\\xf1\\xd6\\xb1\\xe6\\xda\\xc3\\xbb\\xa9\\x8e\\xb4\\xa0\\x83\\xa6\\x92s\\x92wU\\x95tO\\x9d|S\\xb8\\x9dn\\xd8\\xc3\\x8d\\xd4\\xc6\\x98\\xec\\xdd\\xc5\\xec\\xd4\\xb0\\xa6}?\\x88U\\x10\\x86Q\\r\\x82S\\r\\x7fV\\x10\\x89i\\x1b\\x97\\x806\\x91iH\\x7fR)\\x80Z3\\x85\\\\5\\x84Y1\\x87_3\\xab\\x91n\\xed\\xe3\\xcd\\xfc\\xf7\\xeb\\xe5\\xd5\\xc2\\xad\\x88d\\xa9yI\\xdc\\xb6\\x8a\\xc2\\xa9\\x87{Y7\\x87b<\\x7f[0\\x97r?\\xa5\\x7fJ\\x84c2\\x97~O\\xca\\xb7\\x8e\\xf0\\xe4\\xcb\\xf0\\xe1\\xd2\\xde\\xc4\\xa9\\x9cu@wL\\x0cxK\\x10pB\\x0edA\\x0fcJ\\x13\\x8cy6\\x8fhB\\x7fP&\\x81V1\\x81U.\\x82V-\\x8cf;\\xdb\\xc4\\xa1\\xf4\\xe8\\xd2\\xd2\\xc7\\xba\\xc1\\xad\\x97\\xa6\\x81\\\\\\x99h7\\xbf\\x92`\\xb3\\x91i\\x80V/\\x93f:\\x95j;\\xac\\x83N\\x93l6\\x80^-\\x8dqC\\xad\\x96p\\xca\\xb7\\xa0\\xbe\\xab\\x93\\xc6\\xaf\\x92\\x98|VdH\\x1amQ\"wX+y\\\\2lR$\\x88w2\\x8fh@}L \\x83U0\\x80Q+{Q\\'\\x99uL\\x94vU\\xa6\\x8dv\\xbc\\xa6\\x93\\xb6\\x9c\\x84\\xab\\x86c\\xa5sE\\xc3\\x94c\\xbe\\x99n\\x98lB\\x8f_1\\x98i8\\x99n:\\x8ef3\\x8df6\\x87e7\\x88e<\\x94nJ\\x8djA\\x8doD\\x8aqGod%oo\\x1fyv#\\x81t\\'\\x8at-\\xb3\\xa2S\\x8dfA\\x83P#\\x8bY.\\x8bW,\\x8aZ2\\x97oG\\x80[4\\x88a=\\xaf\\x88h\\xad\\x88k\\xbd\\x97v\\xcd\\xa0x\\xc9\\x9dq\\xa8\\x83Y\\x97lA\\x91a5\\x92e4\\x95j9\\x99n=\\x95l=\\x90h;\\x90i;\\x91h;\\x8ff<\\x81`0{g\\'|~\\x1eq\\x87\\x0el\\x85\\x08qz\\n\\x94\\x88,\\xc7\\xb8f\\x8fgH\\x8bW,\\x8aY*\\x95`4\\xa0mH\\x96j@\\x93h:\\x97h9\\xa9yQ\\xa7{W\\xb3\\x8di\\xd4\\xae\\x8a\\xcb\\xa8\\x84\\xcf\\xb1\\x8d\\x95pJ\\x8b`7\\x90f8\\x89^/\\x97k=\\x9boA\\x98m?\\x8ce7kL&[<\"T=\\x17ic\\x19\\x84\\x8e\"v\\x8d\\x14`y\\x04fq\\t\\x9f\\x95?\\xbe\\xaec\\x95kJ\\x85P%\\x88X0\\x93c;\\x96h?\\x99m>\\x9dpC\\xa2uN\\xaf\\x83`\\xbe\\x91k\\xa6|T\\xca\\xa8\\x85\\xe0\\xc5\\xa8\\xc5\\xaf\\x94\\xc0\\xa5\\x85\\xb4\\x90k\\x92j@~R(\\x8da4\\x9cpB\\x99m=sJ\\x1dM+\\x0eO2\\x19]I!~u/\\x85\\x86\\'wt\\x1fqc\\x18\\x8cy*\\xbb\\xa5[\\x9a\\x84K\\xac\\x80L\\x90X\\x12\\x87U#\\x88X0\\x87Z-\\x8b^1\\x99lD\\xa3uS\\xa6xR\\xb8\\x88d\\xa6vX\\x96nK\\xb8\\x95n\\x9cyV\\x9e{W\\xa8\\x82\\\\\\x95mG\\x87[3\\x82U+\\x84X+\\x80T%\\x7fS$\\x87\\\\4\\x8fiB\\x8bl>\\x88p4\\x7fi\\'y\\\\\\'\\x87f,\\xbd\\x9fW\\xd3\\xb5r\\x88k:\\xca\\x9dR\\xbb\\x81\\x1a\\x97d\\x19\\x80O\"zL)\\x86X1\\x8eb5\\x96j8\\x99j:\\x94c?\\x87W;\\x7fR,\\x99m<\\xa6yM\\x8fc;\\x82X3\\x80W4\\x97lF\\x98jA\\x87Z0\\x8b_2\\x9bn?\\xa1qA\\x9ak?\\x9apC\\x8fi6\\x82],\\x84Z.\\xab\\x83F\\xd7\\xb7j\\xba\\x9b[uV0\\xd8\\xaeW\\xc1\\x88\\x10\\xa8z\\x13\\x97o#\\x83X\"~R#\\x8a^1\\x90d5\\x8e_5\\x89\\\\3xN\"\\x83W)\\x91c4\\x90e9\\x89^6\\x7fS0~R3\\x8b^<\\x99lE\\x95h?\\x8c_5\\x87[.\\x93g9\\x94i;\\x95l>\\x95m?\\x89e6\\x8fk9\\xcb\\xa7f\\xce\\xadi|]1G0\\x1a\\xdc\\xb6[\\xc9\\x96\\x16\\xba\\x94\\x18\\xac\\x8b\\x1c\\x9cx\\x1a\\x8eg\\x1e\\x8ed3\\x99lK\\x96iI\\x8bb9~X&\\x88\\\\/\\x94f>\\x8de<\\x83Y3~R1\\x7fQ3\\x8aX4\\x96d<\\x9ahA\\x95e<|N$~U)\\x8de7\\x91k=\\x93pD\\x7fe;rW.\\xba\\x9bb\\xad\\x90W8\\x1d\\t!\\x13\\t\\xd0\\xaa`\\xc9\\x99\"\\xc6\\xa1\\x1a\\xbf\\x9d\\x1b\\xb7\\x92\"\\xab\\x87 \\x9fy*\\x93k4\\x87_1\\x82W.\\x8b]9\\x93b>\\x90_7\\x91c9\\x89[3\\x88Y4\\x89Z6\\x94f:\\x98j<\\x96g=\\x9bn@\\x8a^.xL!\\x80T\\'\\x8ef:\\x87g>ZE(2\\x18\\x0b\\x89i<\\xa0\\x85F8\\x1f\\x075\"\\x14\\xb4\\x8b`\\xad{*\\xba\\x90\\x1e\\xc2\\x99\\x19\\xc6\\x9e\"\\xc9\\xa4$\\xbd\\x99 \\xad\\x89 \\x9cv&\\x8bc&\\x8ea1\\x91a8\\x8d\\\\4\\x8d]4\\x8b[3\\x8c[5\\x8f_:\\x8bc<\\x8ab<\\x8f`8\\x92]+\\x87T!uP&pH\\x1dzQ\\'hC\\x1e:\\x1f\\x0b\"\\x05\\x00\\x83^9\\xb8\\x94^a>\"S5\"\\xb1\\x90t\\xa8\\x81^\\xb3\\x8eW\\xbc\\x95C\\xca\\xa8D\\xda\\xbdL\\xda\\xbfH\\xcf\\xb5F\\xbf\\xa3O\\xaf\\x8fR\\xa6\\x84V\\xa3\\x80\\\\\\xa3\\x7f^\\xa1{\\\\\\x99rT\\x9fxZ\\xa2|]\\x95t[\\x8chS\\x94gM\\xa1iE\\x90_7pZ;w[:\\x82`AxW;\\\\C.gN9\\xaa\\x8ch\\xd8\\xb8\\x8c\\x97vT{\\\\H'>\n"
          ],
          "name": "stdout"
        }
      ]
    },
    {
      "cell_type": "code",
      "metadata": {
        "id": "RRXe9r6gUq02"
      },
      "source": [
        "schema = {\n",
        "            'image': tf.io.FixedLenFeature([], tf.string),\n",
        "            'label': tf.io.FixedLenFeature([], tf.int64),\n",
        "}\n",
        "\n",
        "WIDTH, HEIGHT = 32, 32\n",
        "IMAGE_SIZE = [WIDTH, HEIGHT]\n",
        "\n",
        "def _parse_func(_example):\n",
        "    features = tf.io.parse_single_example(\n",
        "        serialized=_example,\n",
        "        features=schema\n",
        "    )\n",
        "    return features\n",
        "\n",
        "def decode_image(image):\n",
        "    _img = tf.io.decode_raw(image, tf.uint8)\n",
        "    _img = tf.cast(_img, tf.float32) / 255.0\n",
        "    _img = tf.reshape(_img, [*IMAGE_SIZE, 3])\n",
        "    return _img\n",
        "\n",
        "def read_labeled_tfrecord(example):\n",
        "    image_features = _parse_func(example)\n",
        "    image = decode_image(image_features['image'])\n",
        "    label = image_features['label']\n",
        "    return image, label\n",
        "\n",
        "def load_dataset(filenames):\n",
        "    _dataset = tf.data.TFRecordDataset(filenames)\n",
        "    _dataset = _dataset.map(read_labeled_tfrecord)\n",
        "    return _dataset\n",
        "\n",
        "def get_dataset(filenames, repeated=False, ordered=False):\n",
        "    dataset = load_dataset(filenames)\n",
        "    if repeated:\n",
        "        dataset = dataset.repeat()\n",
        "    if not ordered:\n",
        "        dataset = dataset.shuffle(2048)\n",
        "    dataset = dataset.batch(BATCH_SIZE)\n",
        "    dataset = dataset.prefetch(AUTO)\n",
        "    return dataset"
      ],
      "execution_count": 77,
      "outputs": []
    },
    {
      "cell_type": "code",
      "metadata": {
        "colab": {
          "base_uri": "https://localhost:8080/"
        },
        "id": "I9atnP37YwNR",
        "outputId": "418904c4-57e1-452b-d5c2-b6f2b89ba071"
      },
      "source": [
        "for image_features in train_dataset.map(_parse_func).take(1):\n",
        "    image = decode_image(image_features['image'])\n",
        "    label = image_features['label']\n",
        "    print(image)\n",
        "    print(label)"
      ],
      "execution_count": 66,
      "outputs": [
        {
          "output_type": "stream",
          "text": [
            "tf.Tensor(\n",
            "[[[0.23137255 0.24313726 0.24705882]\n",
            "  [0.16862746 0.18039216 0.1764706 ]\n",
            "  [0.19607843 0.1882353  0.16862746]\n",
            "  ...\n",
            "  [0.61960787 0.5176471  0.42352942]\n",
            "  [0.59607846 0.49019608 0.4       ]\n",
            "  [0.5803922  0.4862745  0.40392157]]\n",
            "\n",
            " [[0.0627451  0.07843138 0.07843138]\n",
            "  [0.         0.         0.        ]\n",
            "  [0.07058824 0.03137255 0.        ]\n",
            "  ...\n",
            "  [0.48235294 0.34509805 0.21568628]\n",
            "  [0.46666667 0.3254902  0.19607843]\n",
            "  [0.47843137 0.34117648 0.22352941]]\n",
            "\n",
            " [[0.09803922 0.09411765 0.08235294]\n",
            "  [0.0627451  0.02745098 0.        ]\n",
            "  [0.19215687 0.10588235 0.03137255]\n",
            "  ...\n",
            "  [0.4627451  0.32941177 0.19607843]\n",
            "  [0.47058824 0.32941177 0.19607843]\n",
            "  [0.42745098 0.28627452 0.16470589]]\n",
            "\n",
            " ...\n",
            "\n",
            " [[0.8156863  0.6666667  0.3764706 ]\n",
            "  [0.7882353  0.6        0.13333334]\n",
            "  [0.7764706  0.6313726  0.10196079]\n",
            "  ...\n",
            "  [0.627451   0.52156866 0.27450982]\n",
            "  [0.21960784 0.12156863 0.02745098]\n",
            "  [0.20784314 0.13333334 0.07843138]]\n",
            "\n",
            " [[0.7058824  0.54509807 0.3764706 ]\n",
            "  [0.6784314  0.48235294 0.16470589]\n",
            "  [0.7294118  0.5647059  0.11764706]\n",
            "  ...\n",
            "  [0.72156864 0.5803922  0.36862746]\n",
            "  [0.38039216 0.24313726 0.13333334]\n",
            "  [0.3254902  0.20784314 0.13333334]]\n",
            "\n",
            " [[0.69411767 0.5647059  0.45490196]\n",
            "  [0.65882355 0.5058824  0.36862746]\n",
            "  [0.7019608  0.5568628  0.34117648]\n",
            "  ...\n",
            "  [0.84705883 0.72156864 0.54901963]\n",
            "  [0.5921569  0.4627451  0.32941177]\n",
            "  [0.48235294 0.36078432 0.28235295]]], shape=(32, 32, 3), dtype=float32)\n",
            "tf.Tensor(6, shape=(), dtype=int64)\n"
          ],
          "name": "stdout"
        }
      ]
    },
    {
      "cell_type": "code",
      "metadata": {
        "id": "tCqF36xXY7NY"
      },
      "source": [
        "AUTO = tf.data.experimental.AUTOTUNE\n",
        "BATCH_SIZE = 32"
      ],
      "execution_count": 68,
      "outputs": []
    },
    {
      "cell_type": "code",
      "metadata": {
        "id": "06rLU-fJdkiN"
      },
      "source": [
        "TRAINING_FILENAMES = tf.io.gfile.glob('train*.tfrec')\n",
        "TEST_FILENAMES = tf.io.gfile.glob('test*.tfrec')"
      ],
      "execution_count": 73,
      "outputs": []
    },
    {
      "cell_type": "code",
      "metadata": {
        "id": "OdCjpAPGd0NF"
      },
      "source": [
        "ds_train = get_dataset(TRAINING_FILENAMES, ordered=False)\n",
        "ds_valid = get_dataset(TEST_FILENAMES, ordered=True)"
      ],
      "execution_count": 78,
      "outputs": []
    },
    {
      "cell_type": "code",
      "metadata": {
        "id": "ga6JVpEmhIF-"
      },
      "source": [
        "from tensorflow.keras import datasets, layers, models"
      ],
      "execution_count": 79,
      "outputs": []
    },
    {
      "cell_type": "code",
      "metadata": {
        "id": "qOLEtpWYhob6"
      },
      "source": [
        "model = models.Sequential()\n",
        "model.add(layers.Conv2D(32, (3, 3), activation='relu', input_shape=(32, 32, 3)))\n",
        "model.add(layers.MaxPooling2D((2, 2)))\n",
        "model.add(layers.Conv2D(64, (3, 3), activation='relu'))\n",
        "model.add(layers.MaxPooling2D((2, 2)))\n",
        "model.add(layers.Conv2D(64, (3, 3), activation='relu'))\n",
        "model.add(layers.Flatten())\n",
        "model.add(layers.Dense(64, activation='relu'))\n",
        "model.add(layers.Dense(10))"
      ],
      "execution_count": 80,
      "outputs": []
    },
    {
      "cell_type": "code",
      "metadata": {
        "colab": {
          "base_uri": "https://localhost:8080/"
        },
        "id": "_MbRpbqOhtkc",
        "outputId": "eb73dcc5-fcc4-4e30-f892-01dd0916a352"
      },
      "source": [
        "EPOCHS = 3\n",
        "model.compile(optimizer='adam',\n",
        "              loss=tf.keras.losses.SparseCategoricalCrossentropy(from_logits=True),\n",
        "              metrics=['accuracy'])\n",
        "model.fit(ds_train, validation_data=ds_valid, epochs=EPOCHS)"
      ],
      "execution_count": 83,
      "outputs": [
        {
          "output_type": "stream",
          "text": [
            "Epoch 1/3\n",
            "1563/1563 [==============================] - 60s 39ms/step - loss: 1.1996 - accuracy: 0.5735 - val_loss: 1.0949 - val_accuracy: 0.6118\n",
            "Epoch 2/3\n",
            "1563/1563 [==============================] - 60s 39ms/step - loss: 1.0402 - accuracy: 0.6333 - val_loss: 0.9948 - val_accuracy: 0.6489\n",
            "Epoch 3/3\n",
            "1563/1563 [==============================] - 60s 38ms/step - loss: 0.9366 - accuracy: 0.6698 - val_loss: 0.9652 - val_accuracy: 0.6591\n"
          ],
          "name": "stdout"
        },
        {
          "output_type": "execute_result",
          "data": {
            "text/plain": [
              "<tensorflow.python.keras.callbacks.History at 0x7ff6e7630da0>"
            ]
          },
          "metadata": {
            "tags": []
          },
          "execution_count": 83
        }
      ]
    },
    {
      "cell_type": "code",
      "metadata": {
        "id": "Mw04JFYKh11X"
      },
      "source": [
        ""
      ],
      "execution_count": null,
      "outputs": []
    }
  ]
}